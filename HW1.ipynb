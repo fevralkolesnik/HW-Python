{
 "cells": [
  {
   "cell_type": "markdown",
   "id": "d25b4b54",
   "metadata": {},
   "source": [
    "## ДЗ 1"
   ]
  },
  {
   "cell_type": "markdown",
   "id": "af711d1c",
   "metadata": {},
   "source": [
    "### Задание 1"
   ]
  },
  {
   "cell_type": "markdown",
   "id": "5a84d36a",
   "metadata": {},
   "source": [
    "#### Сделайте так, чтобы число секунд отображалось в виде дни:часы:минуты:секунды."
   ]
  },
  {
   "cell_type": "code",
   "execution_count": 22,
   "id": "ee4e0195",
   "metadata": {},
   "outputs": [],
   "source": [
    "seconds = 10000"
   ]
  },
  {
   "cell_type": "code",
   "execution_count": 23,
   "id": "4a5a1ad5",
   "metadata": {},
   "outputs": [],
   "source": [
    "days = seconds // (24 * 60 * 60)\n",
    "seconds %= 24 * 60 * 60\n",
    "hours = seconds // (60 * 60)\n",
    "seconds %= 60 * 60\n",
    "minutes = seconds // 60\n",
    "seconds %= 60"
   ]
  },
  {
   "cell_type": "code",
   "execution_count": 24,
   "id": "903d569d",
   "metadata": {},
   "outputs": [
    {
     "name": "stdout",
     "output_type": "stream",
     "text": [
      "0:2:46:40\n"
     ]
    }
   ],
   "source": [
    "print(days, hours, minutes, seconds, sep = \":\")"
   ]
  },
  {
   "cell_type": "markdown",
   "id": "d919fc48",
   "metadata": {},
   "source": [
    "### Задание 2"
   ]
  },
  {
   "cell_type": "markdown",
   "id": "79ab9755",
   "metadata": {},
   "source": [
    "#### Напишите калькулятор который запрашивает на входе две переменные и знак, и в соответствии с знаком ( + - * / ) выводит результат"
   ]
  },
  {
   "cell_type": "code",
   "execution_count": 27,
   "id": "d0b27c47",
   "metadata": {},
   "outputs": [
    {
     "name": "stdout",
     "output_type": "stream",
     "text": [
      "Введите число: 1.2\n",
      "Введите число: 3.5\n",
      "Введите оператор: -\n",
      "Ответ:  -2.3\n"
     ]
    }
   ],
   "source": [
    "a = float(input(\"Введите число: \"))\n",
    "b = float(input(\"Введите число: \"))\n",
    "op = input(\"Введите оператор: \")\n",
    "\n",
    "if op == \"+\":\n",
    "    print(\"Ответ: \", a + b)\n",
    "elif op == \"-\":\n",
    "    print(\"Ответ: \", a - b)\n",
    "elif op == \"*\":\n",
    "    print(\"Ответ: \", a * b)\n",
    "elif op == \"/\":\n",
    "    print(\"Ответ: \", a / b)\n",
    "else: \n",
    "    print(\"Такого оператора нет\")"
   ]
  },
  {
   "cell_type": "markdown",
   "id": "15351aee",
   "metadata": {},
   "source": [
    "### Задание 3"
   ]
  },
  {
   "cell_type": "markdown",
   "id": "58262e10",
   "metadata": {},
   "source": [
    "#### Считайте 2 строки и выведите их на печать, разделив символом $.\n",
    "Попробуйте решить эту задачу как минимум 2 способами:\n",
    "\n",
    "1)с помощью конкатенации строк\n",
    "\n",
    "2)с помощью указания разделителя в параметре sep метода print"
   ]
  },
  {
   "cell_type": "code",
   "execution_count": 28,
   "id": "e5602a35",
   "metadata": {},
   "outputs": [
    {
     "name": "stdout",
     "output_type": "stream",
     "text": [
      "M\n",
      "M's\n",
      "M$M's\n",
      "M$M's\n"
     ]
    }
   ],
   "source": [
    "s1 = input()\n",
    "s2 = input()\n",
    "\n",
    "print(s1 + \"$\" + s2)\n",
    "print(s1, s2, sep = \"$\")"
   ]
  },
  {
   "cell_type": "markdown",
   "id": "6eb71026",
   "metadata": {},
   "source": [
    "### Задание 4"
   ]
  },
  {
   "cell_type": "markdown",
   "id": "e55013e9",
   "metadata": {},
   "source": [
    "#### Напишите поздравление с Днем рождения, где программа считает имя и возраст и выведет поздравление столько раз, сколько лет именнинику"
   ]
  },
  {
   "cell_type": "code",
   "execution_count": 38,
   "id": "8c085713",
   "metadata": {},
   "outputs": [
    {
     "name": "stdout",
     "output_type": "stream",
     "text": [
      "Имя: Даша\n",
      "Возраст: 3\n",
      "С Днем Рождения, Даша!\n",
      "С Днем Рождения, Даша!\n",
      "С Днем Рождения, Даша!\n",
      "\n"
     ]
    }
   ],
   "source": [
    "name = input('Имя: ')\n",
    "age = int(input('Возраст: '))\n",
    "\n",
    "print(f\"С Днем Рождения, {name}!\\n\"*age)"
   ]
  }
 ],
 "metadata": {
  "kernelspec": {
   "display_name": "Python 3 (ipykernel)",
   "language": "python",
   "name": "python3"
  },
  "language_info": {
   "codemirror_mode": {
    "name": "ipython",
    "version": 3
   },
   "file_extension": ".py",
   "mimetype": "text/x-python",
   "name": "python",
   "nbconvert_exporter": "python",
   "pygments_lexer": "ipython3",
   "version": "3.9.13"
  }
 },
 "nbformat": 4,
 "nbformat_minor": 5
}
