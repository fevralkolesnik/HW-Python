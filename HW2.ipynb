{
 "cells": [
  {
   "cell_type": "markdown",
   "id": "7fb23cbd",
   "metadata": {},
   "source": [
    "## ДЗ 2"
   ]
  },
  {
   "cell_type": "markdown",
   "id": "3f22d31f",
   "metadata": {},
   "source": [
    "### Задание 1"
   ]
  },
  {
   "cell_type": "markdown",
   "id": "567b670f",
   "metadata": {},
   "source": [
    "#### Какой месяц"
   ]
  },
  {
   "cell_type": "code",
   "execution_count": 24,
   "id": "d48be332",
   "metadata": {},
   "outputs": [
    {
     "name": "stdout",
     "output_type": "stream",
     "text": [
      "Введите номер месяца: 4\n",
      "Апрель\n"
     ]
    }
   ],
   "source": [
    "month = int(input(\"Введите номер месяца: \"))\n",
    "months = [\"Январь\", \"Февраль\", \"Март\", \"Апрель\", \"Май\", \"Июнь\", \"Июль\", \"Август\", \"Сентябрь\", \"Октябрь\", \"Ноябрь\", \"Декабрь\"]\n",
    "if (month > 12 or month <= 0):\n",
    "    print(\"Нет такого месяца\")\n",
    "else:\n",
    "    print(months[month - 1])"
   ]
  },
  {
   "cell_type": "markdown",
   "id": "8c58056a",
   "metadata": {},
   "source": [
    "### Задание 2"
   ]
  },
  {
   "cell_type": "markdown",
   "id": "c0f3dcaa",
   "metadata": {},
   "source": [
    "#### Наибольший общий делитель"
   ]
  },
  {
   "cell_type": "code",
   "execution_count": 32,
   "id": "e2ed1496",
   "metadata": {},
   "outputs": [
    {
     "name": "stdout",
     "output_type": "stream",
     "text": [
      "Введите последовательно два числа для нахождения НОД: \n",
      "30\n",
      "18\n",
      "НОД(30, 18) = 6\n"
     ]
    }
   ],
   "source": [
    "print(\"Введите последовательно два числа для нахождения НОД: \")\n",
    "a = int(input())\n",
    "b = int(input())\n",
    "s = f\"НОД({a}, {b})\"\n",
    "\n",
    "while (a != 0 and b != 0):\n",
    "    if a > b:\n",
    "        a = a % b\n",
    "    else:\n",
    "        b = b % a\n",
    " \n",
    "print(f\"{s} = {a + b}\")\n",
    "    "
   ]
  },
  {
   "cell_type": "markdown",
   "id": "213c5dc7",
   "metadata": {},
   "source": [
    "### Задание 3"
   ]
  },
  {
   "cell_type": "markdown",
   "id": "84c1625b",
   "metadata": {},
   "source": [
    "#### Проверка расширения файла"
   ]
  },
  {
   "cell_type": "code",
   "execution_count": 17,
   "id": "0848539d",
   "metadata": {},
   "outputs": [],
   "source": [
    "file='Моя диссертац.gif'\n",
    "extensions = ['png', 'jpg', 'jpeg', 'gif', 'svg']"
   ]
  },
  {
   "cell_type": "code",
   "execution_count": 18,
   "id": "8c2c7d2d",
   "metadata": {},
   "outputs": [
    {
     "name": "stdout",
     "output_type": "stream",
     "text": [
      "gif - допустимое разрешение\n"
     ]
    }
   ],
   "source": [
    "s = file.split('.')\n",
    "if s[-1] in extensions:\n",
    "    print(f\"{s[-1]} - допустимое разрешение\")\n",
    "else:\n",
    "    print(f\"{s[-1]} не поддерживается. Выберите другое расширение!\")"
   ]
  },
  {
   "cell_type": "markdown",
   "id": "98a1392d",
   "metadata": {},
   "source": [
    "### Задание 4"
   ]
  },
  {
   "cell_type": "markdown",
   "id": "9b2e265e",
   "metadata": {},
   "source": [
    "#### Високосный год\n",
    "год, номер которого кратен 400, — високосный;\n",
    "остальные годы, номер которых кратен 100, — невисокосные;\n",
    "остальные годы, номер которых кратен 4, — високосные."
   ]
  },
  {
   "cell_type": "code",
   "execution_count": 25,
   "id": "d74bb674",
   "metadata": {},
   "outputs": [
    {
     "name": "stdout",
     "output_type": "stream",
     "text": [
      "Введите интересующий Вас год: 2021\n",
      "2021 не является високосным годом\n"
     ]
    }
   ],
   "source": [
    "year=int(input(\"Введите интересующий Вас год: \"))\n",
    "if (year % 400 == 0 or year % 4 == 0):\n",
    "    print(f\"{year} - високосный\")\n",
    "else: \n",
    "    print(f\"{year} не является високосным годом\")"
   ]
  }
 ],
 "metadata": {
  "kernelspec": {
   "display_name": "Python 3 (ipykernel)",
   "language": "python",
   "name": "python3"
  },
  "language_info": {
   "codemirror_mode": {
    "name": "ipython",
    "version": 3
   },
   "file_extension": ".py",
   "mimetype": "text/x-python",
   "name": "python",
   "nbconvert_exporter": "python",
   "pygments_lexer": "ipython3",
   "version": "3.9.13"
  }
 },
 "nbformat": 4,
 "nbformat_minor": 5
}
