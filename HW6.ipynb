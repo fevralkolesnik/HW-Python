{
 "cells": [
  {
   "cell_type": "markdown",
   "metadata": {},
   "source": [
    "# ДЗ 6"
   ]
  },
  {
   "cell_type": "markdown",
   "metadata": {},
   "source": [
    "### Написать бота который будет анализировать текст"
   ]
  },
  {
   "cell_type": "code",
   "execution_count": null,
   "metadata": {},
   "outputs": [],
   "source": [
    "import telebot\n",
    "bot = telebot.TeleBot('6724345335:AAFKZTcHLqnXEvOWweI-FXZRBv7r7RX0118')\n",
    "\n",
    "def statistics(text):\n",
    "    for r in ((' и ', ' '), (' да ', ' '), (' ни ', ' '), (' тоже ', ' '), (' также ', ' '), (' а ', ' '), (' но ', ' '), (' зато ', ' '), (' или ', ' '), (' либо ', ' '),\n",
    "         (' в ', ' '), (' без ', ' '), (' до ', ' '), (' для ', ' '), (' за ', ' '), (' через ', ' '), (' над ', ' '), (' по ', ' '), (' из ', ' '),\n",
    "         (' у ', ' '), (' около ', ' '), (' под ', ' '), (' о ', ' '), (' про ', ' '), (' на ', ' '), (' к ', ' '), (' перед ', ' '),(' при ', ' '),\n",
    "         (' с ', ' '), (' между ', ' ')):\n",
    "        text = text.replace(*r)\n",
    "    \n",
    "    sentensies = text.split(\".\")\n",
    "    \n",
    "    words = set(text.split(\" \"))\n",
    "    \n",
    "    wordsCount = {}\n",
    "\n",
    "    for word in words:\n",
    "        try:\n",
    "            wordsCount[word] += 1\n",
    "        except:\n",
    "            wordsCount[word] = 1\n",
    "\n",
    "    wordsCount = sorted(wordsCount.items(), key=lambda item: item[1], reverse=True)\n",
    "            \n",
    "    return f\"Количество предложений: {len(sentensies) - 1}, \\nКоличество уникальных слов: {len(words)} \\nНаиболее часто встречающееся слово - {wordsCount[0][0]}\"\n",
    "\n",
    "@bot.message_handler(commands=[\"start\"])\n",
    "def start(m, res=False):\n",
    "    bot.send_message(m.chat.id, 'Привет и добро пожаловать! Введите текст для сбора статистики.')\n",
    "\n",
    "    \n",
    "@bot.message_handler(content_types=[\"text\"])\n",
    "def handle_text(message):\n",
    "    stats = statistics(message)\n",
    "    bot.send_message(message.chat.id, stats)\n",
    "\n",
    "    \n",
    "bot.polling(none_stop=True, interval=0)\n",
    "\n"
   ]
  },
  {
   "cell_type": "markdown",
   "metadata": {},
   "source": [
    "### Написать бота который будет проверять доступность сайта"
   ]
  },
  {
   "cell_type": "code",
   "execution_count": null,
   "metadata": {},
   "outputs": [],
   "source": [
    "import telebot\n",
    "from telebot import types\n",
    "from urllib.parse import urlparse\n",
    "import requests\n",
    "bot = telebot.TeleBot('6724345335:AAFKZTcHLqnXEvOWweI-FXZRBv7r7RX0118')\n",
    "\n",
    "\n",
    "def check_site(url):\n",
    "    parsed = urlparse(url,scheme='http')\n",
    "    url_fixed = f'''{parsed.scheme}://{parsed.netloc if parsed.netloc!='' else 'www'}.{parsed.path}#{parsed.fragment}'''\n",
    "    print(url_fixed)\n",
    "    response = requests.get(url_fixed)\n",
    "    if(response.status_code==200):\n",
    "        return True\n",
    "    return False\n",
    "\n",
    "@bot.message_handler(content_types=[\"text\"])\n",
    "def handle_text(message):\n",
    "    text:str = message.text\n",
    "    \n",
    "    if(text.startswith('/')):\n",
    "        if(text.startswith('/start')):\n",
    "            bot.send_message(message.from_user.id, text='enter url to check if site is avaliable')\n",
    "        else:\n",
    "            bot.send_message(message.from_user.id, \"unknown command\")\n",
    "    else:\n",
    "        if(check_site(text)):\n",
    "            bot.send_message(message.from_user.id, f'site: {text}  is availiable')\n",
    "        else:\n",
    "            bot.send_message(message.from_user.id, f'site: {text}  is not availiable')\n",
    "\n",
    "@bot.message_handler(commands=[\"start\"])\n",
    "def start(m, res=False):\n",
    "    bot.send_message(m.chat.id, 'Привет и добро пожаловать! Введите URL сайта.')\n",
    "    \n",
    "bot.infinity_polling()\n"
   ]
  }
 ],
 "metadata": {
  "kernelspec": {
   "display_name": "Python 3 (ipykernel)",
   "language": "python",
   "name": "python3"
  },
  "language_info": {
   "codemirror_mode": {
    "name": "ipython",
    "version": 3
   },
   "file_extension": ".py",
   "mimetype": "text/x-python",
   "name": "python",
   "nbconvert_exporter": "python",
   "pygments_lexer": "ipython3",
   "version": "3.9.13"
  }
 },
 "nbformat": 4,
 "nbformat_minor": 2
}
