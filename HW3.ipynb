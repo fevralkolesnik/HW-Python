{
 "cells": [
  {
   "cell_type": "markdown",
   "id": "7fb23cbd",
   "metadata": {},
   "source": [
    "## ДЗ 3"
   ]
  },
  {
   "cell_type": "markdown",
   "id": "3f22d31f",
   "metadata": {},
   "source": [
    "### Задание 1"
   ]
  },
  {
   "cell_type": "markdown",
   "id": "567b670f",
   "metadata": {},
   "source": [
    "#### Напишите функцию, извлекающую корень n-й степени из числа x. По умолчанию def будет извлекать квадратный корень:"
   ]
  },
  {
   "cell_type": "code",
   "execution_count": 37,
   "id": "d48be332",
   "metadata": {},
   "outputs": [
    {
     "name": "stdout",
     "output_type": "stream",
     "text": [
      "Введите число: 352\n",
      "Введите степень: 12\n",
      "Ответ: 1.63\n"
     ]
    }
   ],
   "source": [
    "x = float(input(\"Введите число: \"))\n",
    "deg = float(input(\"Введите степень: \"))\n",
    "\n",
    "def sqrt(x, deg = 2):\n",
    "    return x ** (1/deg);\n",
    "\n",
    "a = sqrt(x, deg)\n",
    "print(f\"Ответ: {round(a, 3)}\")"
   ]
  },
  {
   "cell_type": "markdown",
   "id": "8c58056a",
   "metadata": {},
   "source": [
    "### Задание 2"
   ]
  },
  {
   "cell_type": "markdown",
   "id": "c0f3dcaa",
   "metadata": {},
   "source": [
    "#### Перепишите ваш код для проверки расширения из прошлого ДЗ в функцию которая принимает список расширений и  имя файла"
   ]
  },
  {
   "cell_type": "code",
   "execution_count": 54,
   "id": "e2ed1496",
   "metadata": {},
   "outputs": [
    {
     "name": "stdout",
     "output_type": "stream",
     "text": [
      "Название файла: Моя диссертац.gif\n",
      "gif - допустимое разрешение\n"
     ]
    }
   ],
   "source": [
    "file=input(\"Название файла: \")\n",
    "\n",
    "def extcheck(name, extensions = ['png', 'jpg', 'jpeg', 'gif', 'svg']): \n",
    "    s = file.split('.')\n",
    "    if s[-1] in extensions:\n",
    "        print(f\"{s[-1]} - допустимое разрешение\")\n",
    "    else:\n",
    "        print(f\"{s[-1]} не поддерживается. Выберите другое расширение!\")\n",
    "        \n",
    "extcheck(file)"
   ]
  },
  {
   "cell_type": "markdown",
   "id": "213c5dc7",
   "metadata": {},
   "source": [
    "### Задание 3"
   ]
  },
  {
   "cell_type": "markdown",
   "id": "84c1625b",
   "metadata": {},
   "source": [
    "#### Слейте воедино три словаря"
   ]
  },
  {
   "cell_type": "code",
   "execution_count": 66,
   "id": "0848539d",
   "metadata": {},
   "outputs": [],
   "source": [
    "dict_a = {1:10, 2:20}\n",
    "dict_b = {3:30, 4:40}\n",
    "dict_c = {5:50, 6:60}"
   ]
  },
  {
   "cell_type": "code",
   "execution_count": 67,
   "id": "56cb3ac2",
   "metadata": {},
   "outputs": [
    {
     "name": "stdout",
     "output_type": "stream",
     "text": [
      "{1: 10, 2: 20, 3: 30, 4: 40, 5: 50, 6: 60}\n"
     ]
    }
   ],
   "source": [
    "merge = dict()\n",
    "merge.update(dict_a)\n",
    "merge.update(dict_b)\n",
    "merge.update(dict_c)\n",
    "print(merge)"
   ]
  },
  {
   "cell_type": "markdown",
   "id": "98a1392d",
   "metadata": {},
   "source": [
    "### Задание 4"
   ]
  },
  {
   "cell_type": "markdown",
   "id": "9b2e265e",
   "metadata": {},
   "source": [
    "#### Напишите функцию которая будет складывать цифры внутри числа"
   ]
  },
  {
   "cell_type": "code",
   "execution_count": 50,
   "id": "5c238196",
   "metadata": {},
   "outputs": [
    {
     "name": "stdout",
     "output_type": "stream",
     "text": [
      "Введите число: 123456789\n",
      "45\n"
     ]
    }
   ],
   "source": [
    "a = int(input(\"Введите число: \"))\n",
    "\n",
    "def summ(number):\n",
    "    summ = 0\n",
    "    while number > 0:\n",
    "        summ += number % 10\n",
    "        number = number // 10\n",
    "    return summ\n",
    "\n",
    "\n",
    "print(summ(a))"
   ]
  },
  {
   "cell_type": "markdown",
   "id": "e8daf9be",
   "metadata": {},
   "source": [
    "### Задание 5"
   ]
  },
  {
   "cell_type": "markdown",
   "id": "2b132049",
   "metadata": {},
   "source": [
    "#### Нужно проверить, все ли числа в последовательности уникальны."
   ]
  },
  {
   "cell_type": "code",
   "execution_count": 72,
   "id": "09f29e6e",
   "metadata": {},
   "outputs": [
    {
     "name": "stdout",
     "output_type": "stream",
     "text": [
      "Все числа в последовательности уникальны\n"
     ]
    }
   ],
   "source": [
    "# numbers=[1, 4, 5, 5, 6]\n",
    "numbers=[1,4,5]\n",
    "set_numbers = set(numbers)\n",
    "if len(numbers) != len(set_numbers):\n",
    "    print(\"Не все числа в последовательности уникальны\")\n",
    "else:\n",
    "    print(\"Все числа в последовательности уникальны\")"
   ]
  },
  {
   "cell_type": "markdown",
   "id": "08c7b0e5",
   "metadata": {},
   "source": [
    "### Задание 6"
   ]
  },
  {
   "cell_type": "markdown",
   "id": "c6dee174",
   "metadata": {},
   "source": [
    "#### Создать функцию, которая просто печатает все элементы заданного ей списка:"
   ]
  },
  {
   "cell_type": "code",
   "execution_count": 85,
   "id": "08e5d72f",
   "metadata": {},
   "outputs": [
    {
     "name": "stdout",
     "output_type": "stream",
     "text": [
      "0  :  я\n",
      "1  :  не\n",
      "2  :  в\n",
      "3  :  отпуск\n"
     ]
    }
   ],
   "source": [
    "def print_list(my_list):\n",
    "    for i, j in enumerate(my_list):\n",
    "        print(i, \" : \", j)\n",
    "        \n",
    "print_list([\"я\", \"не\", \"в\", \"отпуск\" ])"
   ]
  },
  {
   "cell_type": "markdown",
   "id": "d63dcf9b",
   "metadata": {},
   "source": [
    "#### Создать функцию, которая печатает каждый элемент словарика:"
   ]
  },
  {
   "cell_type": "code",
   "execution_count": 95,
   "id": "f7c2fd3b",
   "metadata": {},
   "outputs": [
    {
     "name": "stdout",
     "output_type": "stream",
     "text": [
      "key1 : 2\n",
      "key3 : False\n",
      "Приветствие : Hello\n"
     ]
    }
   ],
   "source": [
    "def print_dict(my_dict):\n",
    "    for i in my_dict:\n",
    "        print(i, \":\", my_dict[i])\n",
    "print_dict({\"key1\": 2, \"key3\": False, \"Приветствие\": \"Hello\"})"
   ]
  },
  {
   "cell_type": "markdown",
   "id": "c11e5612",
   "metadata": {},
   "source": [
    "#### Сделать функцию, которая использует две уже написанные функции следующим образом:\n",
    "если ЗНАЧЕНИЕ это LIST --> вызывается print_list\n",
    "если ЗНАЧЕНИЕ это DICT --> вызывается print_dict\n",
    "во всех других случаях просто выводится ЗНАЧЕНИЕ"
   ]
  },
  {
   "cell_type": "code",
   "execution_count": 102,
   "id": "411404ff",
   "metadata": {},
   "outputs": [
    {
     "name": "stdout",
     "output_type": "stream",
     "text": [
      "1\n",
      "\n",
      "\n",
      "0  :  1\n",
      "1  :  2\n",
      "2  :  3\n",
      "3  :  4\n",
      "\n",
      "\n",
      "Hello\n",
      "\n",
      "\n",
      "ciao : Mondo\n",
      "Привет : О дивный мир\n",
      "\n",
      "\n"
     ]
    }
   ],
   "source": [
    "def print_overlord(mydict):\n",
    "    for i in mydict:\n",
    "        if isinstance(mydict[i], list):\n",
    "            print_list(mydict[i])\n",
    "        elif isinstance(mydict[i], dict):\n",
    "            print_dict(mydict[i])\n",
    "        else:\n",
    "            print(mydict[i])\n",
    "        print(\"\\n\")\n",
    "\n",
    "print_overlord(dict(key1=1,\n",
    "            key2=[1, 2, 3, 4], \n",
    "            key3='Hello', \n",
    "            key4={\"ciao\":\"Mondo\", \"Привет\": \"О дивный мир\"}))"
   ]
  },
  {
   "cell_type": "markdown",
   "id": "6d0d23be",
   "metadata": {},
   "source": [
    "### Задание 7"
   ]
  },
  {
   "cell_type": "markdown",
   "id": "7a55fddd",
   "metadata": {},
   "source": [
    "#### Придумать две темы из IT про которые вам было бы интересно послушать"
   ]
  },
  {
   "cell_type": "markdown",
   "id": "b031951e",
   "metadata": {},
   "source": [
    "1. Про технические собеседования, впринципе как успешно пройти отбор. Коварные вопросы в питоне, которые чаще всего встречаются на собесе.\n",
    "2. Ещё не придумала."
   ]
  },
  {
   "cell_type": "markdown",
   "id": "5a99ab4e",
   "metadata": {},
   "source": [
    "### Задание 1*"
   ]
  },
  {
   "cell_type": "markdown",
   "id": "8ef7b427",
   "metadata": {},
   "source": [
    "#### Сделать функцию, которая на вход получает фразу и печатает все отдельные слова из этой фразы.\n",
    "OUTPUT: Word1 Word2 . . . WordN Number or Words: X"
   ]
  },
  {
   "cell_type": "code",
   "execution_count": 103,
   "id": "491270bc",
   "metadata": {},
   "outputs": [
    {
     "name": "stdout",
     "output_type": "stream",
     "text": [
      "Тут\n",
      "фраза\n",
      "с\n",
      "пробелами\n",
      "и\n",
      "я\n",
      "хочу\n",
      "их\n",
      "распечатать\n",
      "по\n",
      "одному\n",
      "на\n",
      "строку\n",
      "и\n",
      "ещё\n",
      "посчитать\n",
      "слова\n",
      "Количество слов: 17\n"
     ]
    }
   ],
   "source": [
    "def word_count(phrase):\n",
    "    words = phrase.split(\" \")\n",
    "    for i in words:\n",
    "        print(i, sep=\"\\n\")\n",
    "    print(f\"Количество слов: {len(words)}\")\n",
    "\n",
    "word_count(\"Тут фраза с пробелами и я хочу их распечатать по одному на строку и ещё посчитать слова\")"
   ]
  },
  {
   "cell_type": "markdown",
   "id": "a55f6d3b",
   "metadata": {},
   "source": [
    "### Задание 2*"
   ]
  },
  {
   "cell_type": "markdown",
   "id": "0221ef48",
   "metadata": {},
   "source": [
    "#### Модифицировать функцию из предыдущего задания так, чтобы она считала \"вес\" каждого слова, выводя в процентное соотношение во фразе для каждого слова. Проценты печатать с точностью до 2 знаков после запятой.\n",
    "Подсказка: тут придётся два раза пройтись по строке, один раз чтобы посчитать проценты по каждому слову (токену), и другой чтобы уже это всё распечатать. Для вывода двух знаков после запятой посмотрите, например, начало L1.1, там где всякие format symbols, это которые с процентом"
   ]
  },
  {
   "cell_type": "code",
   "execution_count": 112,
   "id": "73ce9e4b",
   "metadata": {},
   "outputs": [
    {
     "name": "stdout",
     "output_type": "stream",
     "text": [
      "Тут : 4.23%\n",
      "фраза : 7.04%\n",
      "с : 1.41%\n",
      "пробелами : 12.68%\n",
      "и : 1.41%\n",
      "я : 1.41%\n",
      "хочу : 5.63%\n",
      "их : 2.82%\n",
      "распечатать : 15.49%\n",
      "по : 2.82%\n",
      "одному : 8.45%\n",
      "на : 2.82%\n",
      "строку : 8.45%\n",
      "и : 1.41%\n",
      "ещё : 4.23%\n",
      "посчитать : 12.68%\n",
      "слова : 7.04%\n",
      "Количество слов: 17\n"
     ]
    }
   ],
   "source": [
    "def word_weigth(phrase):\n",
    "    words = phrase.split(\" \")\n",
    "    symb = 0\n",
    "    for i in words:\n",
    "        symb += len(i)\n",
    "    summ = 0\n",
    "    for i in words:\n",
    "        print(f\"{i} : {len(i)/symb*100:.2f}%\")\n",
    "    print(f\"Количество слов: {len(words)}\")\n",
    "\n",
    "word_weigth(\"Тут фраза с пробелами и я хочу их распечатать по одному на строку и ещё посчитать слова\")"
   ]
  }
 ],
 "metadata": {
  "kernelspec": {
   "display_name": "Python 3 (ipykernel)",
   "language": "python",
   "name": "python3"
  },
  "language_info": {
   "codemirror_mode": {
    "name": "ipython",
    "version": 3
   },
   "file_extension": ".py",
   "mimetype": "text/x-python",
   "name": "python",
   "nbconvert_exporter": "python",
   "pygments_lexer": "ipython3",
   "version": "3.9.13"
  }
 },
 "nbformat": 4,
 "nbformat_minor": 5
}
