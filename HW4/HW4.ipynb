{
 "cells": [
  {
   "cell_type": "markdown",
   "id": "d25b4b54",
   "metadata": {},
   "source": [
    "## ДЗ 4"
   ]
  },
  {
   "cell_type": "markdown",
   "id": "af711d1c",
   "metadata": {},
   "source": [
    "### Задание 1"
   ]
  },
  {
   "cell_type": "markdown",
   "id": "5a84d36a",
   "metadata": {},
   "source": [
    "#### Средний бал и список отстающих учеников"
   ]
  },
  {
   "cell_type": "code",
   "execution_count": 27,
   "id": "ee4e0195",
   "metadata": {},
   "outputs": [],
   "source": [
    "with open(\"task-1.txt\", 'r', encoding = \"utf-8\") as file:\n",
    "    lines = file.read().split('\\n')"
   ]
  },
  {
   "cell_type": "code",
   "execution_count": 28,
   "id": "4a5a1ad5",
   "metadata": {},
   "outputs": [],
   "source": [
    "suma = 0\n",
    "badguys = []\n",
    "\n",
    "for line in lines:\n",
    "    suma += int(line[-1])\n",
    "    if int(line[-1]) < 3:\n",
    "        badguys.append(line[0:len(line) - 2])"
   ]
  },
  {
   "cell_type": "code",
   "execution_count": 29,
   "id": "903d569d",
   "metadata": {},
   "outputs": [
    {
     "name": "stdout",
     "output_type": "stream",
     "text": [
      "Средный балл по группе :3.18\n",
      "Список отстающих: ['Дмитриев Н.', 'Котов Д.', 'Бирюкова Н.', 'Лемонов Ю.']\n"
     ]
    }
   ],
   "source": [
    "print(f\"Средный балл по группе :{round(suma / len(lines), 2)}\")\n",
    "print(f\"Список отстающих: {badguys}\")"
   ]
  },
  {
   "cell_type": "markdown",
   "id": "d919fc48",
   "metadata": {},
   "source": [
    "### Задание 2"
   ]
  },
  {
   "cell_type": "markdown",
   "id": "79ab9755",
   "metadata": {},
   "source": [
    "#### Посчитать количество определенных слов в файле"
   ]
  },
  {
   "cell_type": "code",
   "execution_count": 84,
   "id": "d0b27c47",
   "metadata": {},
   "outputs": [],
   "source": [
    "with open(\"task-2.txt\", 'r', encoding = \"utf-8\") as file:\n",
    "    text = file.read()"
   ]
  },
  {
   "cell_type": "code",
   "execution_count": 85,
   "id": "ea75c194",
   "metadata": {},
   "outputs": [],
   "source": [
    "lec = text.count('лекц.')\n",
    "pract = text.count('практ.')\n",
    "lab = text.count('лаб.')"
   ]
  },
  {
   "cell_type": "code",
   "execution_count": 86,
   "id": "de6714db",
   "metadata": {},
   "outputs": [
    {
     "name": "stdout",
     "output_type": "stream",
     "text": [
      "Лекций: 2\n",
      "Практических: 2\n",
      "Лабораторных: 1\n"
     ]
    }
   ],
   "source": [
    "print('Лекций:', lec)\n",
    "print('Практических:', pract)\n",
    "print('Лабораторных:', lab)"
   ]
  },
  {
   "cell_type": "markdown",
   "id": "15351aee",
   "metadata": {},
   "source": [
    "### Задание 3"
   ]
  },
  {
   "cell_type": "markdown",
   "id": "58262e10",
   "metadata": {},
   "source": [
    "#### Выведите список файлов в указанной директории. например где у вас лежат ваши тетради"
   ]
  },
  {
   "cell_type": "code",
   "execution_count": 91,
   "id": "e5602a35",
   "metadata": {},
   "outputs": [
    {
     "data": {
      "text/plain": [
       "'C:\\\\Users\\\\fevra\\\\Downloads\\\\HW4'"
      ]
     },
     "execution_count": 91,
     "metadata": {},
     "output_type": "execute_result"
    }
   ],
   "source": [
    "pwd"
   ]
  },
  {
   "cell_type": "code",
   "execution_count": 92,
   "id": "de0269e9",
   "metadata": {},
   "outputs": [
    {
     "name": "stdout",
     "output_type": "stream",
     "text": [
      " Том в устройстве C не имеет метки.\n",
      " Серийный номер тома: 86EC-E92A\n",
      "\n",
      " Содержимое папки C:\\Users\\fevra\\Downloads\\HW4\n",
      "\n",
      "24.11.2023  16:09    <DIR>          .\n",
      "24.11.2023  15:37    <DIR>          ..\n",
      "24.11.2023  15:34    <DIR>          .ipynb_checkpoints\n",
      "24.11.2023  16:07             5 739 HW4.ipynb\n",
      "24.11.2023  15:36               236 task-1.txt\n",
      "24.11.2023  15:50               252 task-2.txt\n",
      "24.11.2023  16:09             1 129 task-3.txt\n",
      "               4 файлов          7 356 байт\n",
      "               3 папок   6 519 226 368 байт свободно\n"
     ]
    }
   ],
   "source": [
    "ls"
   ]
  },
  {
   "cell_type": "markdown",
   "id": "6eb71026",
   "metadata": {},
   "source": [
    "### Задание 5"
   ]
  },
  {
   "cell_type": "markdown",
   "id": "e55013e9",
   "metadata": {},
   "source": [
    "#### Напишите программу, которая принимает текст и выводит два слова: наиболее часто встречающееся и самое длинное."
   ]
  },
  {
   "cell_type": "code",
   "execution_count": 181,
   "id": "8c085713",
   "metadata": {},
   "outputs": [],
   "source": [
    "with open(\"task-4.txt\", 'r', encoding = \"utf-8\") as file:\n",
    "    text = file.read()"
   ]
  },
  {
   "cell_type": "code",
   "execution_count": 182,
   "id": "2feb11de",
   "metadata": {},
   "outputs": [],
   "source": [
    "text = text.replace('.', '').replace('!', '').replace(',', '').replace(' — ', ' ').replace('-', ' ').replace('\\n', ' ').lower().split(' ')"
   ]
  },
  {
   "cell_type": "code",
   "execution_count": 183,
   "id": "bc8c177c",
   "metadata": {},
   "outputs": [],
   "source": [
    "maxlen = ''\n",
    "wordsCount = {}\n",
    "\n",
    "for word in text:\n",
    "    if len(word) > len(maxlen):\n",
    "        maxlen = word\n",
    "    try:\n",
    "        wordsCount[word] += 1\n",
    "    except:\n",
    "        wordsCount[word] = 1\n",
    "\n",
    "wordsCount = sorted(wordsCount.items(), key=lambda item: item[1], reverse=True)"
   ]
  },
  {
   "cell_type": "code",
   "execution_count": 184,
   "id": "63cf91b9",
   "metadata": {},
   "outputs": [
    {
     "name": "stdout",
     "output_type": "stream",
     "text": [
      "Наиболее часто встречающееся слово 'и', которое встречается 8 раз.\n",
      "Самое длинное слово - храброславленный, его длина 16 символов.\n"
     ]
    }
   ],
   "source": [
    "print(f\"Наиболее часто встречающееся слово '{wordsCount[0][0]}', которое встречается {wordsCount[0][1]} раз.\")\n",
    "print(f\"Самое длинное слово - {maxlen}, его длина {len(maxlen)} символов.\")"
   ]
  }
 ],
 "metadata": {
  "kernelspec": {
   "display_name": "Python 3 (ipykernel)",
   "language": "python",
   "name": "python3"
  },
  "language_info": {
   "codemirror_mode": {
    "name": "ipython",
    "version": 3
   },
   "file_extension": ".py",
   "mimetype": "text/x-python",
   "name": "python",
   "nbconvert_exporter": "python",
   "pygments_lexer": "ipython3",
   "version": "3.9.13"
  }
 },
 "nbformat": 4,
 "nbformat_minor": 5
}
