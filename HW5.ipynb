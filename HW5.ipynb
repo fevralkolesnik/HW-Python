{
 "cells": [
  {
   "cell_type": "markdown",
   "id": "d25b4b54",
   "metadata": {},
   "source": [
    "## ДЗ 5"
   ]
  },
  {
   "cell_type": "markdown",
   "id": "af711d1c",
   "metadata": {},
   "source": [
    "### Задание 1"
   ]
  },
  {
   "cell_type": "markdown",
   "id": "5a84d36a",
   "metadata": {},
   "source": [
    "#### Задача 1. Напишите программу с классом Student, в котором есть три атрибута: name, groupNumber и age. "
   ]
  },
  {
   "cell_type": "markdown",
   "id": "bcf4f702",
   "metadata": {},
   "source": [
    "По умолчанию name = Ivan, age = 18, groupNumber = 10A. Необходимо создать пять методов: getName, getAge, getGroupNumber, setNameAge, setGroupNumber. Метод getName нужен для получения данных об имени конкретного студента, метод getAge нужен для получения данных о возрасте конкретного студента, vетод setGroupNumberнужен для получения данных о номере группы конкретного студента. Метод SetNameAge позволяет изменить данные атрибутов установленных по умолчанию, метод setGroupNumber позволяет изменить номер группы установленный по умолчанию. В программе необходимо создать пять экземпляров класса Student, установить им разные имена, возраст и номер группы."
   ]
  },
  {
   "cell_type": "code",
   "execution_count": 45,
   "id": "4a5a1ad5",
   "metadata": {},
   "outputs": [],
   "source": [
    "class Student(object):\n",
    "    def __init__(self, name = 'Ivan', age = 18, groupNumber = '10A'):\n",
    "        self.name = name\n",
    "        self.age = age\n",
    "        self.groupNumber = groupNumber\n",
    "        \n",
    "    def __str__(self):\n",
    "        return \"Имя: %s \\nВозраст: %s \\nКласс: %s\\n\" % (\n",
    "            self.name, self.age, self.groupNumber\n",
    "        )\n",
    "    \n",
    "    def getName(self):\n",
    "        return self.name\n",
    "    \n",
    "    def getAge(self):\n",
    "        return self.age\n",
    "    \n",
    "    def getGroupNumber(self):\n",
    "        return self.groupNumber\n",
    "    \n",
    "    def setNameAge(self, newName, newAge):\n",
    "        self.name = newName\n",
    "        self.age = newAge\n",
    "        \n",
    "    def setGroupNumber(self, newGroupNumber):\n",
    "        self.groupNumber = newGroupNumber\n",
    "        \n",
    "newStudent1 = Student('Дарья', 23, '112A')\n",
    "newStudent2 = Student()\n",
    "newStudent3 = Student('Ваня', 20, '11')\n",
    "newStudent4 = Student('Кира', 11)\n",
    "newStudent5 = Student('Гриша')"
   ]
  },
  {
   "cell_type": "code",
   "execution_count": 46,
   "id": "903d569d",
   "metadata": {},
   "outputs": [
    {
     "name": "stdout",
     "output_type": "stream",
     "text": [
      "Имя: Дарья \n",
      "Возраст: 23 \n",
      "Класс: 112A\n",
      "\n",
      "Имя: Ivan \n",
      "Возраст: 18 \n",
      "Класс: 10A\n",
      "\n",
      "Имя: Ваня \n",
      "Возраст: 20 \n",
      "Класс: 11\n",
      "\n",
      "Имя: Кира \n",
      "Возраст: 11 \n",
      "Класс: 10A\n",
      "\n",
      "Имя: Гриша \n",
      "Возраст: 18 \n",
      "Класс: 10A\n",
      "\n"
     ]
    }
   ],
   "source": [
    "print(newStudent1)\n",
    "print(newStudent2)\n",
    "print(newStudent3)\n",
    "print(newStudent4)\n",
    "print(newStudent5)"
   ]
  },
  {
   "cell_type": "code",
   "execution_count": 38,
   "id": "402c9ff4",
   "metadata": {},
   "outputs": [
    {
     "data": {
      "text/plain": [
       "'Дарья'"
      ]
     },
     "execution_count": 38,
     "metadata": {},
     "output_type": "execute_result"
    }
   ],
   "source": [
    "newStudent1.getName()"
   ]
  },
  {
   "cell_type": "code",
   "execution_count": 39,
   "id": "f53e8749",
   "metadata": {},
   "outputs": [
    {
     "data": {
      "text/plain": [
       "23"
      ]
     },
     "execution_count": 39,
     "metadata": {},
     "output_type": "execute_result"
    }
   ],
   "source": [
    "newStudent1.getAge()"
   ]
  },
  {
   "cell_type": "code",
   "execution_count": 40,
   "id": "924f310f",
   "metadata": {},
   "outputs": [
    {
     "data": {
      "text/plain": [
       "'112A'"
      ]
     },
     "execution_count": 40,
     "metadata": {},
     "output_type": "execute_result"
    }
   ],
   "source": [
    "newStudent1.getGroupNumber()"
   ]
  },
  {
   "cell_type": "code",
   "execution_count": 47,
   "id": "fa018384",
   "metadata": {},
   "outputs": [
    {
     "name": "stdout",
     "output_type": "stream",
     "text": [
      "Имя: Даша \n",
      "Возраст: 24 \n",
      "Класс: 112A\n",
      "\n"
     ]
    }
   ],
   "source": [
    "newStudent1.setNameAge('Даша', 24)\n",
    "print(newStudent1)"
   ]
  },
  {
   "cell_type": "code",
   "execution_count": 48,
   "id": "87e2b3c2",
   "metadata": {},
   "outputs": [
    {
     "name": "stdout",
     "output_type": "stream",
     "text": [
      "Имя: Даша \n",
      "Возраст: 24 \n",
      "Класс: Уже все.\n",
      "\n"
     ]
    }
   ],
   "source": [
    "newStudent1.setGroupNumber('Уже все.')\n",
    "print(newStudent1)"
   ]
  },
  {
   "cell_type": "markdown",
   "id": "d919fc48",
   "metadata": {},
   "source": [
    "### Задание 2"
   ]
  },
  {
   "cell_type": "markdown",
   "id": "79ab9755",
   "metadata": {},
   "source": [
    "####  Напишите программу с классом Car. Создайте конструктор класса Car."
   ]
  },
  {
   "cell_type": "markdown",
   "id": "20790308",
   "metadata": {},
   "source": [
    "Создайте атрибуты класса Car — color (цвет), type (тип), year (год). Напишите пять методов. Первый — запуск автомобиля, при его вызове выводится сообщение «Автомобиль заведен». Второй — отключение автомобиля — выводит сообщение «Автомобиль заглушен». Третий — присвоение автомобилю года выпуска. Четвертый метод — присвоение автомобилю типа. Пятый — присвоение автомобилю цвета."
   ]
  },
  {
   "cell_type": "code",
   "execution_count": 61,
   "id": "d0b27c47",
   "metadata": {},
   "outputs": [
    {
     "name": "stdout",
     "output_type": "stream",
     "text": [
      "Цвет: Красный \n",
      "Тип: Седан \n",
      "Год: 2010\n",
      "\n"
     ]
    }
   ],
   "source": [
    "class Car(object):\n",
    "    def __init__(self, color, type, year):  # эта функция вызывается когда мы пишем MyClass()\n",
    "        self.color = color\n",
    "        self.type = type\n",
    "        self.year = year\n",
    "        \n",
    "    def __str__(self):\n",
    "        return \"Цвет: %s \\nТип: %s \\nГод: %s\\n\" % (\n",
    "            self.color, self.type, self.year\n",
    "        )\n",
    "        \n",
    "    def onCar(self):\n",
    "        print('Автомобиль заведен')\n",
    "    \n",
    "    def outCar(self):\n",
    "        print('Автомобиль заглушен')\n",
    "    \n",
    "    def setYear(self, newYear):\n",
    "        self.year = newYear\n",
    "        \n",
    "    def setType(self, newType):\n",
    "        self.type = newType\n",
    "    \n",
    "    def setColor(self, newColor):\n",
    "        self.color = newColor\n",
    "\n",
    "newCar = Car('Красный', 'Седан', 2010)\n",
    "print(newCar)"
   ]
  },
  {
   "cell_type": "code",
   "execution_count": 62,
   "id": "7ee6af8e",
   "metadata": {},
   "outputs": [
    {
     "name": "stdout",
     "output_type": "stream",
     "text": [
      "Автомобиль заведен\n"
     ]
    }
   ],
   "source": [
    "newCar.onCar()"
   ]
  },
  {
   "cell_type": "code",
   "execution_count": 63,
   "id": "5f2bc25e",
   "metadata": {},
   "outputs": [
    {
     "name": "stdout",
     "output_type": "stream",
     "text": [
      "Автомобиль заглушен\n"
     ]
    }
   ],
   "source": [
    "newCar.outCar()"
   ]
  },
  {
   "cell_type": "code",
   "execution_count": 64,
   "id": "af131560",
   "metadata": {},
   "outputs": [
    {
     "name": "stdout",
     "output_type": "stream",
     "text": [
      "Цвет: Красный \n",
      "Тип: Седан \n",
      "Год: 2000\n",
      "\n"
     ]
    }
   ],
   "source": [
    "newCar.setYear(2000)\n",
    "print(newCar)"
   ]
  },
  {
   "cell_type": "code",
   "execution_count": 65,
   "id": "cfd85edc",
   "metadata": {},
   "outputs": [
    {
     "name": "stdout",
     "output_type": "stream",
     "text": [
      "Цвет: Красный \n",
      "Тип: Opel Corsa \n",
      "Год: 2000\n",
      "\n"
     ]
    }
   ],
   "source": [
    "newCar.setType('Opel Corsa')\n",
    "print(newCar)"
   ]
  },
  {
   "cell_type": "code",
   "execution_count": 66,
   "id": "ee62f67e",
   "metadata": {},
   "outputs": [
    {
     "name": "stdout",
     "output_type": "stream",
     "text": [
      "Цвет: Все ешё красный \n",
      "Тип: Opel Corsa \n",
      "Год: 2000\n",
      "\n"
     ]
    }
   ],
   "source": [
    "newCar.setColor('Все ешё красный')\n",
    "print(newCar)"
   ]
  },
  {
   "cell_type": "markdown",
   "id": "15351aee",
   "metadata": {},
   "source": [
    "### Задание 3"
   ]
  },
  {
   "cell_type": "markdown",
   "id": "58262e10",
   "metadata": {},
   "source": [
    "#### Допишите функцию Nutrition."
   ]
  },
  {
   "cell_type": "code",
   "execution_count": 73,
   "id": "e5602a35",
   "metadata": {},
   "outputs": [],
   "source": [
    "class NutritionInfo:\n",
    "    def __init__(self, proteins, carbs, fats):\n",
    "        self.proteins = proteins\n",
    "        self.carbs = carbs\n",
    "        self.fats = fats\n",
    "    \n",
    "    def __add__(self, other):\n",
    "        return NutritionInfo(self.proteins + other.proteins, self.carbs + other.carbs, self.fats + other.fats)\n",
    "    \n",
    "    def __mul__(self, other):\n",
    "        return NutritionInfo(self.proteins * other, self.carbs * other, self.fats * other)\n",
    "    \n",
    "    def __str__(self):\n",
    "        return f\"Nutrition p {self.proteins}, c {self.carbs}, f {self.fats}\"\n",
    "        \n",
    "    def energy(self):\n",
    "        return int(self.fats * 9 + (self.carbs + self.proteins) * 4.2)"
   ]
  },
  {
   "cell_type": "code",
   "execution_count": 74,
   "id": "ca8fedfe",
   "metadata": {},
   "outputs": [
    {
     "name": "stdout",
     "output_type": "stream",
     "text": [
      "Nutrition p 2, c 4, f 6\n"
     ]
    }
   ],
   "source": [
    "egg = NutritionInfo(1, 2, 3)\n",
    "pastila = NutritionInfo(1, 2, 3)\n",
    "tvorog_9 = NutritionInfo(18, 3, 9)\n",
    "apple = NutritionInfo(0, 25, 0)\n",
    "\n",
    "print(egg + pastila)"
   ]
  },
  {
   "cell_type": "code",
   "execution_count": 75,
   "id": "b0a29a8f",
   "metadata": {},
   "outputs": [],
   "source": [
    "breakfast = apple + tvorog_9 + pastila"
   ]
  },
  {
   "cell_type": "code",
   "execution_count": 76,
   "id": "89e0129a",
   "metadata": {},
   "outputs": [
    {
     "data": {
      "text/plain": [
       "313"
      ]
     },
     "execution_count": 76,
     "metadata": {},
     "output_type": "execute_result"
    }
   ],
   "source": [
    "breakfast.energy()"
   ]
  },
  {
   "cell_type": "code",
   "execution_count": 77,
   "id": "b3c46b11",
   "metadata": {},
   "outputs": [],
   "source": [
    "breakfast = apple * 3"
   ]
  },
  {
   "cell_type": "code",
   "execution_count": 78,
   "id": "bfa3dd99",
   "metadata": {},
   "outputs": [
    {
     "data": {
      "text/plain": [
       "315"
      ]
     },
     "execution_count": 78,
     "metadata": {},
     "output_type": "execute_result"
    }
   ],
   "source": [
    "breakfast.energy()"
   ]
  }
 ],
 "metadata": {
  "kernelspec": {
   "display_name": "Python 3 (ipykernel)",
   "language": "python",
   "name": "python3"
  },
  "language_info": {
   "codemirror_mode": {
    "name": "ipython",
    "version": 3
   },
   "file_extension": ".py",
   "mimetype": "text/x-python",
   "name": "python",
   "nbconvert_exporter": "python",
   "pygments_lexer": "ipython3",
   "version": "3.9.13"
  }
 },
 "nbformat": 4,
 "nbformat_minor": 5
}
